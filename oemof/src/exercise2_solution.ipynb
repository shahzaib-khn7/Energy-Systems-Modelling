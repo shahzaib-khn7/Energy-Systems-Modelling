{
 "cells": [
  {
   "cell_type": "markdown",
   "id": "e626de2a",
   "metadata": {},
   "source": [
    "# Exercise: Energy System Model 2\n",
    "Fabian Schmid | Institut für Energietechnik | FG EVUR | Berlin\n",
    "\n"
   ]
  },
  {
   "cell_type": "markdown",
   "id": "ac4752a5",
   "metadata": {},
   "source": [
    "## Agenda:\n",
    "- Scenario development\n",
    "- Input data\n",
    "- Create oemof model\n",
    "- Optimize oemof model\n",
    "- Access and store results\n",
    "- Plotting of results"
   ]
  },
  {
   "cell_type": "markdown",
   "id": "219310b1",
   "metadata": {},
   "source": [
    "## Scenario development\n",
    "#### Process of energy system modeling\n",
    "\n",
    "<img src=\"jupyter_pics/process_of_energy_system_modeling.png\" width=\"500\">\n"
   ]
  },
  {
   "cell_type": "markdown",
   "id": "60032c0a",
   "metadata": {},
   "source": [
    "### Real problem with research question\n",
    "#### Research question:\n",
    "- Is it possible to supply Schleswig Holstein with 100% renewable energy?\n",
    "    - We consider the state electricty and heat demand\n",
    "- What is the optimal energy generation mix?\n",
    "- Are available areas and resources sufficient to cover the energy demand?\n",
    "\n",
    "\n",
    "**Basic assumptions**    \n",
    "- Electricity and heat demand is given as timeseries data\n",
    "- Excess electricity and heat can be feed-in to an electricity and heat grid without any feed-in tariffs\n",
    "- Electricty and heat import is not possible, the state energy demand shall be covered by internal renewable ressources! \n",
    "\n",
    "<p>&nbsp;</p>\n",
    "\n",
    "- **Possible components:**\n",
    "    - Onshore wind turbines\n",
    "    - Offshore wind turbines\n",
    "    - PV\n",
    "    - Hydro run of river (RoR) plants\n",
    "    - Biomass - Combined Heat and power (CHP) plants \n",
    "    - Heat Pumps (HP)\n",
    "    \n",
    "- **Possible storage components:**\n",
    "    - Battery storage\n",
    "    - Hydrogen storage\n",
    "    - Adiabatic Compressed Air Energy Storage (ACAES)\n",
    "    - Thermal storage\n"
   ]
  },
  {
   "cell_type": "markdown",
   "id": "0789fd7e",
   "metadata": {},
   "source": [
    "#### Energy system to be analyzed\n",
    "\n",
    "<img src=\"jupyter_pics/Icons_EnergySystem_exercise2.PNG\" width=\"800\">\n"
   ]
  },
  {
   "cell_type": "markdown",
   "id": "127c83a5",
   "metadata": {},
   "source": [
    "#### Energy system model its inputs and outputs\n",
    "\n",
    "<img src=\"jupyter_pics/overview_model_setup.PNG\" width=\"650\">\n",
    "\n",
    "\n",
    "**Model selection**\n",
    "- Oemof framework for LP optimization problems with a single-layer design and dispatch optimization\n",
    "- Integrated energy model with different energy hubs/buses for the representation of electricity and heat demand \n",
    "- Linear component definitions with hourly timestep and one year timeframe for regional pre-feasibility analysis \n",
    "- Economic assessment with minimization of total system costs\n",
    "\n",
    "\n",
    "<img src=\"jupyter_pics/model_catego.PNG\" width=\"500\">\n",
    "\n"
   ]
  },
  {
   "cell_type": "markdown",
   "id": "ae0d7b26",
   "metadata": {},
   "source": [
    "## Input data \n",
    "\n",
    "- All input data is defined in a excel file called 'input_data_exercise2.xls' with 4 sheets 'timeseries', 'capacity', 'tech', 'costs'\n",
    "    - Open this excel file, you can find it under folder 'data'\n",
    "  \n",
    "**It incudes following data, all specific to Schleswig Holstein**\n",
    "  \n",
    "*Data sources can be found in this paper: Maruf_A Novel Method for Analyzing Highly Renewable and Sector Coupled Energy Systems_Schleswig Holstein_2021*\n",
    "  \n",
    "- **Meteorological, general and energy consumption data**\n",
    "    - Timeseries of **normalized electricty demand**\n",
    "        - Open Power System data platform\n",
    "        - https://data.open-power-system-data.org/time_series/ \n",
    "        - https://arxiv.org/pdf/1812.10405.pdf\n",
    "            - Profiles downscaled based on population to represent Schleswig Holstein’s hourly demand profiles\n",
    "            \n",
    "    - Timeseries of **normalized space heat and hot water demand**            \n",
    "        - Open Power System data platform - When2Heat Project\n",
    "        - https://data.open-power-system-data.org/when2heat/2019-08-06\n",
    "            - Profiles downscaled based on population to represent Schleswig Holstein’s hourly demand profiles\n",
    "            \n",
    "    - Timeseries of **capacity factors of onshore/offshore wind, PV** \n",
    "        - https://www.renewables.ninja/\n",
    "        - Scientific background of renewable.ninja: https://www.sciencedirect.com/science/article/pii/S0360544216311744?via%3Dihub\n",
    "        - Scientific background of renewable.ninja: https://www.sciencedirect.com/science/article/pii/S0360544216311811?via%3Dihub\n",
    "            - Wind onshore and PV capacity factors represents current profile of Schleswig Holstein\n",
    "            - Wind offshore represents off shore capacity factors of Germany\n",
    "            \n",
    "    - Timeseries of **normalized run of river plant power output**\n",
    "        - Dispa-SET toolkit - https://github.com/energy-modelling-toolkit/Dispa-SET\n",
    "            - Scaled inflow profile\n",
    "\n",
    "<img src=\"jupyter_pics/ex2_input_timeseries.PNG\" width=\"700\">"
   ]
  },
  {
   "cell_type": "markdown",
   "id": "0fd7c5d2",
   "metadata": {},
   "source": [
    "\n",
    "- Further data on Schleswig Holstein is defined:\n",
    "    - **Annual electricty, space and hot water heat demand** to scale demand timeseries\n",
    "    - **Existing plant capacity** of onshore/offshore wind, PV, hydro run of river and Biomass CHP\n",
    "    - **Available potential for plant expansion**, of\n",
    "        - Onshore/offshore wind, PV, RoR, CHP, HP and all storages\n",
    "            - *Energy storages capacities are defined as storage energy and storage power*\n",
    "    - **Biomass ressource availablility**\n",
    "        - Total biomass ressource availability represents 6.068 TWh, for this exercise we assume that only 50% of this availability will be exploited, which means 3.034 TWh biomass potential."
   ]
  },
  {
   "cell_type": "markdown",
   "id": "1952dd2a",
   "metadata": {},
   "source": [
    "<img src=\"jupyter_pics/ex2_input_capacities.PNG\" width=\"650\">"
   ]
  },
  {
   "cell_type": "markdown",
   "id": "2ac80229",
   "metadata": {},
   "source": [
    "- **System technical data** (its meaning and usage will be explained in detail later)\n",
    "    - Energy loss, efficiency and charge/discharge hours of storage technologies, CHP and heat pump\n",
    "        - Heat pump efficeincy represents mean annual Coefficient of Performance\n",
    "\n",
    "<img src=\"jupyter_pics/ex2_input_tech.PNG\" width=\"600\">\n",
    "\n",
    "\n",
    "    "
   ]
  },
  {
   "cell_type": "markdown",
   "id": "c1cf56ad",
   "metadata": {},
   "source": [
    "- **Economic data** for capacity costs and marginal costs determination of all technologies\n",
    "    - capital expenditure (capex), weighted average cost of capital (wacc), fixed operation costs (fom), volatile operation costs (vom)\n",
    "          \n",
    "<img src=\"jupyter_pics/costs_calculation.PNG\" width=\"650\">\n",
    "\n",
    "\n",
    "<img src=\"jupyter_pics/ex2_input_costs.PNG\" width=\"550\">"
   ]
  },
  {
   "cell_type": "markdown",
   "id": "8db26f24",
   "metadata": {},
   "source": [
    " ### Start energy system model  \n",
    "- Load needed libaries\n"
   ]
  },
  {
   "cell_type": "markdown",
   "id": "2e592a09",
   "metadata": {},
   "source": [
    "### Read input data \n",
    "\n",
    "- Use pandas.read_excel()function to read excel file with input data, which is saved in 'input_data_exercise2.xls' in folder data\n",
    "    - Read each excel sheet in a separat DataFrame, called timeseries, capacities, tech and costs\n",
    "- Define logger (for better overview of simulation process)"
   ]
  },
  {
   "cell_type": "code",
   "execution_count": 1,
   "id": "a006d67e",
   "metadata": {},
   "outputs": [
    {
     "name": "stderr",
     "output_type": "stream",
     "text": [
      "C:\\Users\\Shahzaib Khan\\AppData\\Local\\Temp\\ipykernel_8796\\1428763608.py:12: FutureWarning: 'H' is deprecated and will be removed in a future version, please use 'h' instead.\n",
      "  timeseries.index.freq = '1H'\n",
      "C:\\Users\\Shahzaib Khan\\AppData\\Local\\Temp\\ipykernel_8796\\1428763608.py:14: UserWarning: Could not infer format, so each element will be parsed individually, falling back to `dateutil`. To ensure parsing is consistent and as-expected, please specify a format.\n",
      "  capacities = pd.read_excel('../data/input_data_assignment2.xls',\n",
      "C:\\Users\\Shahzaib Khan\\AppData\\Local\\Temp\\ipykernel_8796\\1428763608.py:18: UserWarning: Could not infer format, so each element will be parsed individually, falling back to `dateutil`. To ensure parsing is consistent and as-expected, please specify a format.\n",
      "  tech = pd.read_excel('../data/input_data_assignment2.xls',\n",
      "C:\\Users\\Shahzaib Khan\\AppData\\Local\\Temp\\ipykernel_8796\\1428763608.py:22: UserWarning: Could not infer format, so each element will be parsed individually, falling back to `dateutil`. To ensure parsing is consistent and as-expected, please specify a format.\n",
      "  costs = pd.read_excel('../data/input_data_assignment2.xls',\n"
     ]
    }
   ],
   "source": [
    "# Import libaries\n",
    "import pandas as pd\n",
    "\n",
    "#%% Read input data\n",
    "# Input Data Reading\n",
    "timeseries = pd.read_excel('../data/input_data_assignment2.xls', \n",
    "                           sheet_name='timeseries', \n",
    "                           index_col=[0], \n",
    "                           parse_dates=True)\n",
    "\n",
    "# Add timestep (oemof model needs time increment)\n",
    "timeseries.index.freq = '1H'\n",
    "\n",
    "capacities = pd.read_excel('../data/input_data_assignment2.xls', \n",
    "                           sheet_name='capacity', \n",
    "                           index_col=[0], \n",
    "                           parse_dates=True)\n",
    "tech = pd.read_excel('../data/input_data_assignment2.xls', \n",
    "                           sheet_name='tech', \n",
    "                           index_col=[0], \n",
    "                           parse_dates=True)\n",
    "costs = pd.read_excel('../data/input_data_assignment2.xls', \n",
    "                           sheet_name='costs', \n",
    "                           index_col=[0], \n",
    "                           parse_dates=True)\n",
    "\n"
   ]
  },
  {
   "cell_type": "code",
   "execution_count": 2,
   "id": "18cc9fee",
   "metadata": {},
   "outputs": [
    {
     "data": {
      "text/plain": [
       "array([<Axes: xlabel='timeindex'>, <Axes: xlabel='timeindex'>,\n",
       "       <Axes: xlabel='timeindex'>, <Axes: xlabel='timeindex'>,\n",
       "       <Axes: xlabel='timeindex'>, <Axes: xlabel='timeindex'>,\n",
       "       <Axes: xlabel='timeindex'>], dtype=object)"
      ]
     },
     "execution_count": 2,
     "metadata": {},
     "output_type": "execute_result"
    },
    {
     "data": {
      "image/png": "[encoded data removed]",
      "text/plain": [
       "<Figure size 640x480 with 7 Axes>"
      ]
     },
     "metadata": {},
     "output_type": "display_data"
    }
   ],
   "source": [
    "# Plot timeseries data\n",
    "timeseries.plot(subplots=True)"
   ]
  },
  {
   "cell_type": "markdown",
   "id": "2ff99688",
   "metadata": {},
   "source": [
    "## Create oemof model\n",
    "- **Electricty, Space and HDW heat demand**\n",
    "\n",
    "- **Possible components:**\n",
    "    - Onshore wind turbines\n",
    "    - Offshore wind turbines\n",
    "    - PV\n",
    "    - Hydro run of river (RoR) plants\n",
    "    - Biomass - Combined Heat and power (CHP) plants \n",
    "    - Heat Pumps (HP)\n",
    "    \n",
    "- **Possible storage components:**\n",
    "    - Battery storage\n",
    "    - Hydrogen storage\n",
    "    - Adiabatic Compressed Air Energy Storage (ACAES)\n",
    "    - Thermal storage\n",
    "    \n",
    "**Task:**\n",
    "- Work in groups and create a oemof graphical energy system model which specifies the most basic oemof classes\n",
    "    - Components (Sink, Source, Transformer) and Bus\n"
   ]
  },
  {
   "cell_type": "markdown",
   "id": "657b23cf",
   "metadata": {},
   "source": [
    "The correct oemof energysystem looks like this\n",
    "\n",
    "\n",
    "![energy system model oemof](jupyter_pics/oemof_EnergySystem_exercise2.png) "
   ]
  },
  {
   "cell_type": "markdown",
   "id": "5eba84e8",
   "metadata": {},
   "source": [
    "### Initialize energysystem\n",
    "- Initialize your energy system called energysystem with a DatetimeIndex"
   ]
  },
  {
   "cell_type": "code",
   "execution_count": 3,
   "id": "a5f33355",
   "metadata": {},
   "outputs": [
    {
     "ename": "ModuleNotFoundError",
     "evalue": "No module named 'oemof'",
     "output_type": "error",
     "traceback": [
      "\u001b[1;31m---------------------------------------------------------------------------\u001b[0m",
      "\u001b[1;31mModuleNotFoundError\u001b[0m                       Traceback (most recent call last)",
      "Cell \u001b[1;32mIn[3], line 2\u001b[0m\n\u001b[0;32m      1\u001b[0m \u001b[38;5;66;03m# Load libaries\u001b[39;00m\n\u001b[1;32m----> 2\u001b[0m \u001b[38;5;28;01mfrom\u001b[39;00m\u001b[38;5;250m \u001b[39m\u001b[38;5;21;01moemof\u001b[39;00m\u001b[38;5;250m \u001b[39m\u001b[38;5;28;01mimport\u001b[39;00m solph\n\u001b[0;32m      3\u001b[0m \u001b[38;5;28;01mfrom\u001b[39;00m\u001b[38;5;250m \u001b[39m\u001b[38;5;21;01moemof\u001b[39;00m\u001b[38;5;21;01m.\u001b[39;00m\u001b[38;5;21;01mtools\u001b[39;00m\u001b[38;5;250m \u001b[39m\u001b[38;5;28;01mimport\u001b[39;00m economics\n\u001b[0;32m      5\u001b[0m \u001b[38;5;28;01mimport\u001b[39;00m\u001b[38;5;250m \u001b[39m\u001b[38;5;21;01mmatplotlib\u001b[39;00m\u001b[38;5;21;01m.\u001b[39;00m\u001b[38;5;21;01mpyplot\u001b[39;00m\u001b[38;5;250m \u001b[39m\u001b[38;5;28;01mas\u001b[39;00m\u001b[38;5;250m \u001b[39m\u001b[38;5;21;01mplt\u001b[39;00m\n",
      "\u001b[1;31mModuleNotFoundError\u001b[0m: No module named 'oemof'"
     ]
    }
   ],
   "source": [
    "# Load libaries\n",
    "from oemof import solph\n",
    "from oemof.tools import economics\n",
    "\n",
    "import matplotlib.pyplot as plt\n",
    "from collections import OrderedDict\n",
    "\n",
    "#%% Initialize the energy system and read/calculate necessary parameters\n",
    "energysystem = solph.EnergySystem(timeindex=timeseries.index)"
   ]
  },
  {
   "cell_type": "markdown",
   "id": "d25acce7",
   "metadata": {},
   "source": [
    "### Create oemof bus\n",
    "\n",
    "- Electricity bus\n",
    "- Heat bus\n",
    "- Biomass bus"
   ]
  },
  {
   "cell_type": "code",
   "execution_count": null,
   "id": "642a010a",
   "metadata": {},
   "outputs": [],
   "source": [
    "#%% Create oemof Buses\n",
    "\n",
    "# create electricity bus\n",
    "bus_electricity = solph.Bus(label='bus_electricity_l')\n",
    "# create heat bus\n",
    "bus_heat = solph.Bus(label='bus_heat_l')\n",
    "# create biomass bus\n",
    "bus_biomass = solph.Bus(label='bus_biomass_l')\n",
    "\n",
    "# add buses to energy model\n",
    "energysystem.add(bus_electricity, bus_heat, bus_biomass)"
   ]
  },
  {
   "cell_type": "markdown",
   "id": "6efb1d33",
   "metadata": {},
   "source": [
    "### Create oemof sinks\n",
    "\n",
    "- Electricity demand\n",
    "- Electricity excess\n",
    "- Space heat demand\n",
    "- Hot Drinking water heat demand\n",
    "- Heat excess"
   ]
  },
  {
   "cell_type": "code",
   "execution_count": null,
   "id": "96904663",
   "metadata": {},
   "outputs": [],
   "source": [
    "#%% Create oemof Sinks\n",
    "\n",
    "# create excess component for the electricity bus to allow overproduction\n",
    "electricity_excess = solph.Sink(label='electricty_excess_l', \n",
    "                                inputs={bus_electricity: solph.Flow()})\n",
    "\n",
    "# create simple sink object representing the electrical demand\n",
    "electricity_demand = solph.Sink(label='electricity_demand_l',\n",
    "                                inputs={bus_electricity: solph.Flow(\n",
    "                                        fix=timeseries['electricity'], \n",
    "                                        nominal_value=capacities['electricity']['amount'])})\n",
    "\n",
    "# create excess component for the heat bus to allow overproduction\n",
    "heat_excess = solph.Sink(label='heat_excess_l', \n",
    "                         inputs={bus_heat: solph.Flow()})\n",
    "\n",
    "# create simple sink object representing the heat demand (space heat and hot water demand)\n",
    "heat_space_demand = solph.Sink(label='heat_space_demand_l',\n",
    "                               inputs={bus_heat: solph.Flow(\n",
    "                                       fix=timeseries['space_heat'], \n",
    "                                       nominal_value=capacities['space_heat']['amount'])})\n",
    "\n",
    "heat_dhw_demand = solph.Sink(label='heat_dhw_demand_l',\n",
    "                             inputs={bus_heat: solph.Flow(\n",
    "                                     fix=timeseries['dhw_heat'], \n",
    "                                     nominal_value=capacities['dhw_heat']['amount'])})"
   ]
  },
  {
   "cell_type": "markdown",
   "id": "98313fea",
   "metadata": {},
   "source": [
    "### Economic parameter definition\n",
    "\n",
    "- Dispatch and sizing optimization aim to minimize total system costs\n",
    "- Therefore for all components capacity costs for new installations and marginal costs for dispatch need to be defined \n",
    "\n",
    "![economic_objective](jupyter_pics/economic_objective_function.PNG)\n",
    "\n",
    "*In our model we use MW and MWh as basic power/energy units!*\n",
    "![economic_parameter](jupyter_pics/economic_parameter.PNG)\n",
    "\n",
    "- For this purpose the **Investment mode** will be integrated!\n",
    "    - https://oemof-solph.readthedocs.io/en/latest/usage.html#using-the-investment-mode"
   ]
  },
  {
   "cell_type": "markdown",
   "id": "74cee1e2",
   "metadata": {},
   "source": [
    "#### Capacity cost calculation\n",
    "- Calculation of capex annuity \n",
    "- Summation of capex annity with fixed opex\n",
    "    - capex costs are defined in €/MW or €/MWh\n",
    "    - fixed opex costs are defined in €/MW/a or €/MWh/a\n",
    "\n",
    "for all components with possible new installations \n",
    "\n",
    "\n",
    "- For electricty storage a distinction is made between:\n",
    "    - investment in storage energy capacity [MWh] (e.g. Pumped hydro storage bassin)\n",
    "    - investment in storage power capacity [MW] (e.g. Pumped hydro storage pump/turbine)\n"
   ]
  },
  {
   "cell_type": "code",
   "execution_count": null,
   "id": "5f8f2492",
   "metadata": {},
   "outputs": [],
   "source": [
    "#%% Economic caluclation (for dispatch/sizing optimization) \n",
    "\n",
    "## Capital costs [€/MW(h)]\n",
    "# Annuities [€/MW(h)/a]\n",
    "a_onshore = economics.annuity(capex=costs['onshore']['capex'], \n",
    "                              n=costs['onshore']['lifetime'],\n",
    "                              wacc=costs['onshore']['wacc'])\n",
    "a_offshore = economics.annuity(capex=costs['offshore']['capex'], \n",
    "                               n=costs['offshore']['lifetime'],\n",
    "                               wacc=costs['offshore']['wacc'])\n",
    "a_pv = economics.annuity(capex=costs['pv']['capex'], \n",
    "                         n=costs['pv']['lifetime'],\n",
    "                         wacc=costs['pv']['wacc'])\n",
    "a_ror = economics.annuity(capex=costs['ror']['capex'], \n",
    "                          n=costs['ror']['lifetime'],\n",
    "                          wacc=costs['ror']['wacc'])\n",
    "\n",
    "a_chp = economics.annuity(capex=costs['chp']['capex'], \n",
    "                            n=costs['chp']['lifetime'],\n",
    "                            wacc=costs['chp']['wacc'])\n",
    "a_hp = economics.annuity(capex=costs['hp']['capex'], \n",
    "                           n=costs['hp']['lifetime'],\n",
    "                           wacc=costs['hp']['wacc'])\n",
    "\n",
    "a_battery_energy = economics.annuity(capex=costs['battery']['capex_energy'], \n",
    "                                     n=costs['battery']['lifetime'],\n",
    "                                     wacc=costs['battery']['wacc'])\n",
    "a_battery = economics.annuity(capex=costs['battery']['capex'], \n",
    "                              n=costs['battery']['lifetime'],\n",
    "                              wacc=costs['battery']['wacc'])\n",
    "a_hydrogen_energy = economics.annuity(capex=costs['hydrogen']['capex_energy'], \n",
    "                                      n=costs['hydrogen']['lifetime'],\n",
    "                                      wacc=costs['hydrogen']['wacc'])\n",
    "a_hydrogen = economics.annuity(capex=costs['hydrogen']['capex'], \n",
    "                               n=costs['hydrogen']['lifetime'],\n",
    "                               wacc=costs['hydrogen']['wacc'])\n",
    "a_acaes_energy = economics.annuity(capex=costs['acaes']['capex_energy'], \n",
    "                                     n=costs['acaes']['lifetime'],\n",
    "                                     wacc=costs['acaes']['wacc'])\n",
    "a_acaes = economics.annuity(capex=costs['acaes']['capex'], \n",
    "                              n=costs['acaes']['lifetime'],\n",
    "                              wacc=costs['acaes']['wacc'])\n",
    "a_tes_energy = economics.annuity(capex=costs['tes']['capex_energy'], \n",
    "                                   n=costs['tes']['lifetime'],\n",
    "                                       wacc=costs['tes']['wacc'])\n"
   ]
  },
  {
   "cell_type": "code",
   "execution_count": null,
   "id": "17782f3c",
   "metadata": {},
   "outputs": [],
   "source": [
    "# Capital costs sum of annuities and fixed opex [€/MW(h)/a]\n",
    "cc_onshore = (a_onshore + costs['onshore']['fom'])\n",
    "cc_offshore = (a_offshore + costs['offshore']['fom'])\n",
    "cc_pv = (a_pv + costs['pv']['fom'])\n",
    "cc_ror = (a_ror + costs['ror']['fom'])\n",
    "\n",
    "cc_chp = (a_chp + costs['chp']['fom'])\n",
    "cc_hp = (a_hp + costs['hp']['fom'])\n",
    "\n",
    "cc_battery_energy = (a_battery_energy + costs['battery']['fom'])\n",
    "cc_battery = (a_battery)\n",
    "cc_hydrogen_energy = (a_hydrogen_energy + costs['hydrogen']['fom'])\n",
    "cc_hydrogen = (a_hydrogen)\n",
    "cc_acaes_energy = (a_acaes_energy + costs['acaes']['fom'])\n",
    "cc_acaes = (a_acaes)\n",
    "cc_tes_energy = (a_tes_energy + costs['tes']['fom'])"
   ]
  },
  {
   "cell_type": "markdown",
   "id": "84d43a09",
   "metadata": {},
   "source": [
    "#### Marginal cost calculation\n",
    "- Definition of variable opex\n",
    "    - variable opex costs are defined in €/MWh/a\n",
    "    \n",
    "for all components with operation costs, due to optimal dispatch"
   ]
  },
  {
   "cell_type": "code",
   "execution_count": null,
   "id": "f63c06fb",
   "metadata": {},
   "outputs": [],
   "source": [
    "## Marginal costs [€/MWh/a]\n",
    "mc_onshore = costs['onshore']['vom']\n",
    "mc_offshore = costs['offshore']['vom']\n",
    "mc_pv = costs['pv']['vom']\n",
    "mc_ror = costs['ror']['vom']\n",
    "\n",
    "mc_chp = (costs['chp']['vom'])\n",
    "mc_hp = costs['hp']['vom']\n",
    "\n",
    "mc_battery = costs['battery']['vom']\n",
    "mc_hydrogen = costs['hydrogen']['vom']\n",
    "mc_acaes = costs['acaes']['vom']\n",
    "mc_tes = costs['tes']['vom']"
   ]
  },
  {
   "cell_type": "markdown",
   "id": "1fcc42a7",
   "metadata": {},
   "source": [
    "### Create oemof sources\n",
    "\n",
    "- A Source has **1 output flow**.\n",
    "    - https://oemof-solph.readthedocs.io/en/latest/usage.html#source-basic\n",
    "    \n",
    "#### Definition of source objects with investent mode\n",
    "- Onshore wind turbine\n",
    "- Offshore wind turbine\n",
    "- PV\n",
    "- RoR\n",
    "- Biomass ressource with investment mode, as only biomass ressource availability is managed with this source\n",
    "    \n",
    "**Further considerations:**\n",
    "- Marginal costs are connected to the produced energy of the source and therefore need to be connected to the source Flow() (variable_costs)\n",
    "- Annual capital costs are connected to the new investments and can be defined as ep_costs in the Investment mode\n",
    "- Existing (existing) and the potential of additional (maximum) investments can be defined in the Investment mode\n",
    "    - https://oemof-solph.readthedocs.io/en/latest/usage.html#using-the-investment-mode"
   ]
  },
  {
   "cell_type": "code",
   "execution_count": null,
   "id": "266c2cb6",
   "metadata": {},
   "outputs": [],
   "source": [
    "#%%Create oemof Sources\n",
    "\n",
    "# create fixed source object representing wind power plants offshore\n",
    "wind_offshore = solph.Source(label='wind_offshore_l',\n",
    "                             outputs={bus_electricity: solph.Flow(   \n",
    "                                     fix=timeseries['offshore'], \n",
    "                                     variable_costs=mc_offshore,\n",
    "                                     investment=solph.Investment(\n",
    "                                                ep_costs=cc_offshore,\n",
    "                                                maximum=capacities['offshore']['capacity_potential'],\n",
    "                                                existing=capacities['offshore']['capacity_existing']))\n",
    "                                    },)\n",
    "\n",
    "# create fixed source object representing wind power plants onshore\n",
    "wind_onshore = solph.Source(label='wind_onshore_l',\n",
    "                            outputs={bus_electricity: solph.Flow(\n",
    "                                    fix=timeseries['onshore'], \n",
    "                                    variable_costs=mc_onshore,\n",
    "                                    investment=solph.Investment(\n",
    "                                               ep_costs=cc_onshore,\n",
    "                                               maximum=capacities['onshore']['capacity_potential'],\n",
    "                                               existing=capacities['onshore']['capacity_existing']))\n",
    "                                    },)\n",
    "\n",
    "# create fixed source object representing pv power plants\n",
    "pv = solph.Source(label='pv_l',\n",
    "                  outputs={bus_electricity: solph.Flow(\n",
    "                           fix=timeseries['pv'], \n",
    "                           variable_costs=mc_pv,\n",
    "                           investment=solph.Investment(\n",
    "                                      ep_costs=cc_pv,\n",
    "                                      maximum=capacities['pv']['capacity_potential'],\n",
    "                                      existing=capacities['pv']['capacity_existing']))\n",
    "                           },)\n",
    "\n",
    "# create fixed source object representing hydro run of river plant\n",
    "ror = solph.Source(label='ror_l',\n",
    "                   outputs={bus_electricity: solph.Flow(\n",
    "                            fix=timeseries['ror'], \n",
    "                            variable_costs=mc_ror,\n",
    "                            investment=solph.Investment(\n",
    "                                       ep_costs=cc_ror,\n",
    "                                       maximum=capacities['ror']['capacity_potential'],\n",
    "                                       existing=capacities['ror']['capacity_existing']))\n",
    "                            },)\n",
    "\n",
    "# create fixed source object representing biomass ressource\n",
    "biomass = solph.Source(label='biomass_l',\n",
    "                       outputs={bus_biomass: solph.Flow(\n",
    "                               nominal_value=capacities['biomass']['capacity_potential'],\n",
    "                               summed_max=1)\n",
    "                               },)\n",
    "                                   \t"
   ]
  },
  {
   "cell_type": "markdown",
   "id": "de8d7cb0",
   "metadata": {},
   "source": [
    "### Create oemof GenericStorage\n",
    "\n",
    "- The GenericStorage is designed for **1 input and 1 output**.\n",
    "    - https://oemof-solph.readthedocs.io/en/latest/usage.html#genericstorage-component\n",
    "    \n",
    "#### Definition of GenericStorage objects with investent mode\n",
    "- Battery\n",
    "- Hydrogen\n",
    "- ACAES\n",
    "- Thermal energy storage (only capital costs for storage energy occur)\n",
    "\n",
    "**Further considerations:**\n",
    "- As the GenericStorage Storage component is associated with costs the **Investment mode** needs to be integrated!\n",
    "    - https://oemof-solph.readthedocs.io/en/latest/usage.html#using-the-investment-mode\n",
    "\n",
    "- Marginal costs are connected to the charged/discharged energy of the GenericStorage and therefore need to be connected to the Flow() (variable_costs)\n",
    "\n",
    "- Annual capital costs are connected to the new investments in GenericStorage **Power capacity and Energy storage capacity**\n",
    "    - Power capacity Investment is integrated in the Flow()\n",
    "    - Energy storage capacity Investment is integrated as in Source objects\n",
    "    - Use the correct capital costs for energy and power capacity\n",
    "        - Be aware that power capacity investment cost are the sum for charge and discharge investment and therefore need to be integrated only in inputs Flow()\n",
    "- Existing (existing) and the potential of additional (maximum) investments need to be defined\n",
    "\n",
    "- Be sure to define energy loss, efficiency correctly  \n",
    "    \n",
    "    \n",
    "**The definition of maximum C-Rate with parameter max_hours**\n",
    "- In order to couple in and output flows (storage power) with storage energy capacity (for battery we speak of: C-Rate) the parameters:\n",
    "    - ‘invest_relation_output_capacity‘ and ‘invest_relation_input_capacity‘ need to be defined with the storage C-Rate\n",
    "    - For every storage component the parameter max_hours is defined as the number of hours, which are needed to (dis)charge the storage to its maximum SoC with the maximum storage (dis)charge power\n",
    "        - For the case of the battery this is 6.5h, which means that in 6.5h the battery can be fully (dis)charged\n",
    "        - **Definition: C-rate = 1/max_hours**, for the battery C-Rate = 1/6.5h = 0.1538 1/h\n",
    "\n",
    "    - With the same maximum charge and discharge C-Rate it is guaranteed that the investment in storage power for input and output has the same relation to the storage energy!"
   ]
  },
  {
   "cell_type": "code",
   "execution_count": null,
   "id": "06288b5e",
   "metadata": {},
   "outputs": [],
   "source": [
    "#%% Create oemof Storages\n",
    "\n",
    "# create storage object representing a battery\n",
    "battery = solph.components.GenericStorage(label='battery_l',\n",
    "                                          inputs={bus_electricity: solph.Flow(\n",
    "                                                  investment=solph.Investment(\n",
    "                                                             ep_costs=cc_battery,\n",
    "                                                             maximum=capacities['battery']['storage_power_potential']),\n",
    "                                                  variable_costs=mc_battery)},\n",
    "                                          outputs={bus_electricity: solph.Flow()},\n",
    "                                          loss_rate=tech['battery']['loss'],\n",
    "                                          initial_storage_level=0,\n",
    "                                          invest_relation_input_capacity=1/tech['battery']['max_hours'],\n",
    "                                          invest_relation_output_capacity=1/tech['battery']['max_hours'],\n",
    "                                          inflow_conversion_factor=1,\n",
    "                                          outflow_conversion_factor=tech['battery']['efficiency'],\n",
    "                                          investment=solph.Investment(\n",
    "                                                     ep_costs=cc_battery_energy,\n",
    "                                                     maximum=capacities['battery']['capacity_potential']),)\n",
    "\n",
    "# create storage object representing a hydrogen\n",
    "hydrogen = solph.components.GenericStorage(label='hydrogen_l',\n",
    "                                          inputs={bus_electricity: solph.Flow(\n",
    "                                                  investment=solph.Investment(\n",
    "                                                             ep_costs=cc_hydrogen,\n",
    "                                                             maximum=capacities['hydrogen']['storage_power_potential']),\n",
    "                                                  variable_costs=mc_hydrogen)},\n",
    "                                          outputs={bus_electricity: solph.Flow()},\n",
    "                                          loss_rate=tech['hydrogen']['loss'],\n",
    "                                          initial_storage_level=0,\n",
    "                                          invest_relation_input_capacity=1/tech['hydrogen']['max_hours'],\n",
    "                                          invest_relation_output_capacity=1/tech['hydrogen']['max_hours'],\n",
    "                                          inflow_conversion_factor=1,\n",
    "                                          outflow_conversion_factor=tech['hydrogen']['efficiency'],\n",
    "                                          investment=solph.Investment(\n",
    "                                                     ep_costs=cc_hydrogen_energy,\n",
    "                                                     maximum=capacities['hydrogen']['capacity_potential']),)\n",
    "\n",
    "# create storage object representing a adiabatic compressed air energy storage (ACAES)\n",
    "acaes = solph.components.GenericStorage(label='acaes_l',\n",
    "                                          inputs={bus_electricity: solph.Flow(\n",
    "                                                  investment=solph.Investment(\n",
    "                                                             ep_costs=cc_acaes,\n",
    "                                                             maximum=capacities['acaes']['storage_power_potential']),\n",
    "                                                  variable_costs=mc_acaes)},\n",
    "                                          outputs={bus_electricity: solph.Flow()},\n",
    "                                          loss_rate=tech['acaes']['loss'],\n",
    "                                          initial_storage_level=0,\n",
    "                                          invest_relation_input_capacity=1/tech['acaes']['max_hours'],\n",
    "                                          invest_relation_output_capacity=1/tech['acaes']['max_hours'],\n",
    "                                          inflow_conversion_factor=1,\n",
    "                                          outflow_conversion_factor=tech['acaes']['efficiency'],\n",
    "                                          investment=solph.Investment(\n",
    "                                                     ep_costs=cc_acaes_energy,\n",
    "                                                     maximum=capacities['acaes']['capacity_potential']),)\n",
    "\n",
    "# create storage object representing a battery\n",
    "tes = solph.components.GenericStorage(label='tes_l',\n",
    "                                          inputs={bus_heat: solph.Flow(\n",
    "                                                  investment=solph.Investment(\n",
    "                                                             maximum=capacities['tes']['storage_power_potential']),\n",
    "                                                  variable_costs=mc_tes)},\n",
    "                                          outputs={bus_heat: solph.Flow()},\n",
    "                                          loss_rate=tech['tes']['loss'],\n",
    "                                          initial_storage_level=0,\n",
    "                                          invest_relation_input_capacity=1/tech['tes']['max_hours'],\n",
    "                                          invest_relation_output_capacity=1/tech['tes']['max_hours'],\n",
    "                                          inflow_conversion_factor=1,\n",
    "                                          outflow_conversion_factor=tech['tes']['efficiency'],\n",
    "                                          investment=solph.Investment(\n",
    "                                                     ep_costs=cc_tes_energy,\n",
    "                                                     maximum=capacities['tes']['capacity_potential']),)"
   ]
  },
  {
   "cell_type": "markdown",
   "id": "c80be68c",
   "metadata": {},
   "source": [
    "### Create oemof Transformer\n",
    "\n",
    "- The Transformer is designed for **multiple inputs and multiple outputs**.\n",
    "    - https://oemof-solph.readthedocs.io/en/latest/usage.html#transformer-basic\n",
    "    \n",
    "#### Definition of Transformer objects with investent mode\n",
    "- Biomass - Combined Heat and Power plant (CHP)\n",
    "- Heat Pump\n",
    "\n",
    "**Further considerations:**\n",
    "- CHP\n",
    "    - Marginal costs of biomass need to be considered in Transformer input flow()\n",
    "    - Capital costs of CHP investment are defined in €/MW_electric and therefore need to be considered in the CHP electric output flow()\n",
    "    - Define electric and thermal efficiency\n",
    "    \n",
    "- Heat Pump\n",
    "    - Capital costs of HP investment are defined in €/MW_thermal and therefore need to be considered in the HP thermal output flow()\n",
    "    - Be aware weather you need to use heat pump COP efficiency or the reciprocal in case you use electricty or heat bus for the conversion_factor definition "
   ]
  },
  {
   "cell_type": "code",
   "execution_count": null,
   "id": "b204bf5b",
   "metadata": {},
   "outputs": [],
   "source": [
    "#%% Create oemof Transormers\n",
    "\n",
    "# create transformer object representing CHP plants\n",
    "chp = solph.Transformer(label='chp_l',\n",
    "                        inputs={bus_biomass: solph.Flow(\n",
    "                                    variable_costs=mc_chp)},\n",
    "                        outputs={bus_electricity: solph.Flow(\n",
    "                                    investment=solph.Investment(\n",
    "                                               ep_costs=cc_chp,\n",
    "                                               existing=capacities['chp']['capacity_existing'])),\n",
    "                                 bus_heat: solph.Flow()},\n",
    "                        conversion_factors={bus_electricity: tech['chp']['electric_efficiency'],\n",
    "                                            bus_heat: tech['chp']['thermal_efficiency']},\n",
    "                        )\n",
    "\n",
    "# create transformer object representing heat pumps\n",
    "hp = solph.Transformer(label='hp_l',\n",
    "                       inputs={bus_electricity: solph.Flow()},\n",
    "                       outputs={bus_heat: solph.Flow(\n",
    "                                investment=solph.Investment(\n",
    "                                           ep_costs=cc_hp),\n",
    "                                variable_costs=mc_hp)},\n",
    "                       conversion_factors={bus_electricity: 1/tech['hp']['efficiency']},\n",
    "                       )"
   ]
  },
  {
   "cell_type": "markdown",
   "id": "0dcbc6b9",
   "metadata": {},
   "source": [
    "- **All Sink, Source and GenericStorage objects created need to be added to the EnergySystem**"
   ]
  },
  {
   "cell_type": "code",
   "execution_count": null,
   "id": "aefb0acb",
   "metadata": {},
   "outputs": [],
   "source": [
    "#%% Add all components to the energysystem\n",
    "energysystem.add(electricity_excess, electricity_demand,\n",
    "                 heat_excess, heat_space_demand, heat_dhw_demand,\n",
    "                 wind_offshore, wind_onshore, pv, ror, biomass,\n",
    "                 battery, hydrogen, acaes, tes, \n",
    "                 hp, chp)"
   ]
  },
  {
   "cell_type": "markdown",
   "id": "50c47bd5",
   "metadata": {},
   "source": [
    "## Optimize oemof model\n",
    "\n",
    "- Define optimization model via solph.Model()\n",
    "- Solve the optimization problem with the definition of the used solver and call attribute model.solve()\n",
    "    - use cbc solver"
   ]
  },
  {
   "cell_type": "code",
   "execution_count": null,
   "id": "9af6411b",
   "metadata": {},
   "outputs": [],
   "source": [
    "#%% Optimise the energy system\n",
    "\n",
    "# initialise the operational model\n",
    "om = solph.Model(energysystem)\n",
    "\n",
    "# if tee_switch is true solver messages will be displayed\n",
    "om.solve(solver='cbc')\n"
   ]
  },
  {
   "cell_type": "markdown",
   "id": "e7b92cfc",
   "metadata": {},
   "source": [
    "## Access and store results\n",
    "- Optimization results can be stored, to be access savely in a later step (*optional*).\n",
    "- Collecting results can be done with the help of the processing module. \n",
    "\n",
    "\n",
    "#### solph.processing.results() function:\n",
    "- Use solph.processing.results() function\n",
    "    - Documentation: https://oemof-solph.readthedocs.io/en/latest/usage.html#results-collect-results-label  "
   ]
  },
  {
   "cell_type": "code",
   "execution_count": null,
   "id": "13ef325b",
   "metadata": {},
   "outputs": [],
   "source": [
    "#Extract main results save results to dump (optional)\n",
    "energysystem.results['main'] = solph.processing.results(om)\n",
    "energysystem.dump('../results/dumps',\n",
    "                  filename='model.oemof')"
   ]
  },
  {
   "cell_type": "markdown",
   "id": "4c1a3e5c",
   "metadata": {},
   "source": [
    "#### solph.processing.results() function:\n",
    "- Use solph.processing.results() function\n",
    "    - Documentation: https://oemof-solph.readthedocs.io/en/latest/usage.html#results-collect-results-label\n",
    "- Gives back the results as a python dictionary holding **pandas Series for scalar values** and **pandas DataFrames for all nodes and flows** between them.\n",
    "- You can directly extract the data in the dictionary by using these keys, where “node” is the name of the object you want to address. \n",
    "    - you can use specified *component_label* to access the component data - '*component_label*' (use quotes)\n",
    "    - you can use specified *component_parameter_name* to access the component data - *component_parameter_name*\n",
    "- The keys of the results dictionary are tuples containing two nodes. Since flows have a starting node and an ending node\n",
    "\n",
    "#### solph.views.node() function:\n",
    "- An **easy access** of the results can be done via oemof.views.node()\n",
    "    - https://oemof-solph.readthedocs.io/en/latest/usage.html#results-easy-access-label\n",
    "- Easily one specific DataFrame can be extracted from us with the definition of the defined key."
   ]
  },
  {
   "cell_type": "code",
   "execution_count": null,
   "id": "747ed8c0",
   "metadata": {},
   "outputs": [],
   "source": [
    "#%% Extract results \n",
    "\n",
    "# Extract results dict\n",
    "results = solph.processing.results(om)\n",
    "\n",
    "# Extract component results\n",
    "results_wind_offshore = solph.views.node(results, 'wind_offshore_l')\n",
    "results_wind_onshore = solph.views.node(results, 'wind_onshore_l')\n",
    "results_pv = solph.views.node(results, 'pv_l')\n",
    "results_ror = solph.views.node(results, 'ror_l')\n",
    "\n",
    "results_biomass = solph.views.node(results, 'bus_biomass_l')\n",
    "results_chp = solph.views.node(results, 'chp_l')\n",
    "results_hp = solph.views.node(results, 'hp_l')\n",
    "\n",
    "results_battery = solph.views.node(results, 'battery_l')\n",
    "results_hydrogen = solph.views.node(results, 'hydrogen_l')\n",
    "results_acaes = solph.views.node(results, 'acaes_l')\n",
    "results_tes = solph.views.node(results, 'tes_l')\n",
    "\n",
    "# Extract bus results\n",
    "results_electricity_bus = solph.views.node(results, 'bus_electricity_l')\n",
    "results_heat_bus = solph.views.node(results, 'bus_heat_l')\n",
    "results_biomass_bus = solph.views.node(results, 'bus_biomass_l')"
   ]
  },
  {
   "cell_type": "code",
   "execution_count": null,
   "id": "f69ef460",
   "metadata": {},
   "outputs": [],
   "source": [
    "results_pv\n",
    "results_pv['sequences'].plot()\n",
    "results_pv['scalars'].iloc[0]"
   ]
  },
  {
   "cell_type": "markdown",
   "id": "761ff7c1",
   "metadata": {},
   "source": [
    "### Extract installed capacities of all components\n",
    "- Different aproach to extract data\n",
    "- Extract and store it an Orderdict (orders entries according to definition in contrast to random dict)\n",
    "- Transfer Orderdict to DataFrame and transpose it for better readability"
   ]
  },
  {
   "cell_type": "code",
   "execution_count": null,
   "id": "fd354bed",
   "metadata": {},
   "outputs": [],
   "source": [
    "#%% Results: Installed capacities\n",
    "# Define capacity results dict\n",
    "results_capacity = OrderedDict()\n",
    "\n",
    "# installed capacity of wind power plant in MW\n",
    "results_capacity['wind_onshore_invest_MW'] = results[(wind_onshore, bus_electricity)]['scalars']['invest']\n",
    "# installed capacity of wind power plant in MW\n",
    "results_capacity['wind_offshore_invest_MW'] = results[(wind_offshore, bus_electricity)]['scalars']['invest']\n",
    "# installed capacity of pv power plant in MW\n",
    "results_capacity['pv_invest_MW'] = results[(pv, bus_electricity)]['scalars']['invest']\n",
    "# installed capacity of pv power plant in MW\n",
    "results_capacity['ror_invest_MW'] = results[(ror, bus_electricity)]['scalars']['invest']\n",
    "\n",
    "# installed capacity of chp plant in MW\n",
    "results_capacity['chp_invest_MW_el'] = results[(chp, bus_electricity)]['scalars']['invest']\n",
    "# installed capacity of heat pump in MW\n",
    "results_capacity['hp_invest_MW_th'] = results[(hp, bus_heat)]['scalars']['invest']\n",
    "\n",
    "# installed capacity of battery storage in MWh\n",
    "results_capacity['battery_invest_MWh'] = results[(battery, None)]['scalars']['invest']\n",
    "# installed power capacity of battery storage in MW\n",
    "results_capacity['battery_invest_MW_ch'] = results[(bus_electricity, battery)]['scalars']['invest']\n",
    "results_capacity['battery_invest_MW_dch'] = results[(battery, bus_electricity)]['scalars']['invest']\n",
    "\n",
    "# installed capacity of hydrogen storage in MWh\n",
    "results_capacity['hydrogen_invest_MWh'] = results[(hydrogen, None)]['scalars']['invest']\n",
    "# installed power capacity of hydrogen storage in MW\n",
    "results_capacity['hydrogen_invest_MW_ch'] = results[(bus_electricity, hydrogen)]['scalars']['invest']\n",
    "results_capacity['hydrogen_invest_MW_dch'] = results[(hydrogen, bus_electricity,)]['scalars']['invest']\n",
    "\n",
    "# installed capacity of acaes storage in MWh\n",
    "results_capacity['acaes_invest_MWh'] = results[(acaes, None)]['scalars']['invest']\n",
    "# installed power capacity of acaes storage in MW\n",
    "results_capacity['acaes_invest_MW_ch'] = results[(bus_electricity, acaes)]['scalars']['invest']\n",
    "results_capacity['acaes_invest_MW_dch'] = results[(acaes, bus_electricity)]['scalars']['invest']\n",
    "\n",
    "# installed capacity of thermal storage in MWh\n",
    "results_capacity['thermal_storage_invest_MWh'] = results[(tes, None)]['scalars']['invest']\n",
    "# installed power capacity of thermal storage in MW\n",
    "results_capacity['thermal_storage_invest_MW_ch'] = results[(bus_heat, tes)]['scalars']['invest']\n",
    "results_capacity['thermal_storage_invest_MW_dch'] = results[(tes, bus_heat)]['scalars']['invest']\n",
    "\n",
    "# Transfer dict to DataFRame and transpose for better readybility\n",
    "results_capacity_df = pd.DataFrame(results_capacity, index=[0]).T\n",
    "results_capacity_df"
   ]
  },
  {
   "cell_type": "markdown",
   "id": "a0dee669",
   "metadata": {},
   "source": [
    "### Interpretation of results\n",
    "- Invest and sequences\n",
    "    - The investment mode sums the newly installed capacities to the existig capacities\n",
    "    - But it returns as a result only the new installed capacities\n",
    "    - But timeseries in 'sequences' define the timeseries of both existing and newly installed capacities!"
   ]
  },
  {
   "cell_type": "markdown",
   "id": "df08960e",
   "metadata": {},
   "source": [
    "### Store summarized results to excel\n",
    "- Use xlsxwriter to store DataFrames to different sheets in result excel file stored in folder results"
   ]
  },
  {
   "cell_type": "code",
   "execution_count": null,
   "id": "ffaa2a55",
   "metadata": {},
   "outputs": [],
   "source": [
    "#%% Collection of all results and exporting to ecxel file\n",
    "\n",
    "# Create a Pandas Excel writer using XlsxWriter as the engine.\n",
    "with pd.ExcelWriter('../results/results_overview.xlsx', engine='xlsxwriter') as writer:  \n",
    "    \n",
    "    # Write each dataframe to a different worksheet.\n",
    "    results_capacity_df.to_excel(writer, sheet_name='capacities')\n"
   ]
  },
  {
   "cell_type": "markdown",
   "id": "6991eb6a",
   "metadata": {},
   "source": [
    "## Plotting of results"
   ]
  },
  {
   "cell_type": "code",
   "execution_count": null,
   "id": "23f91cda",
   "metadata": {},
   "outputs": [],
   "source": [
    "# Exract timeseries result and plot it\n",
    "wind_onshore_ts = results_wind_onshore['sequences']\n",
    "wind_onshore_ts.plot()\n"
   ]
  },
  {
   "cell_type": "code",
   "execution_count": null,
   "id": "8f29d753",
   "metadata": {},
   "outputs": [],
   "source": [
    "#%% Extract timeseries results of all components to plot\n",
    "# Different approach to extract data\n",
    "\n",
    "results_elec_ts = OrderedDict()\n",
    "# Extract electricty component timeseries\n",
    "results_elec_ts['wind_offshore'] = results[(wind_offshore, bus_electricity)]['sequences']['flow']\n",
    "results_elec_ts['wind_onshore'] = results[(wind_onshore, bus_electricity)]['sequences']['flow'] \n",
    "results_elec_ts['pv'] = results[(pv, bus_electricity)]['sequences']['flow']\n",
    "results_elec_ts['ror'] = results[(ror, bus_electricity)]['sequences']['flow']\n",
    "results_elec_ts['chp'] = results[(chp, bus_electricity)]['sequences']['flow']\n",
    "\n",
    "results_elec_ts['elec_demand'] = results[(bus_electricity, electricity_demand)]['sequences']['flow']\n",
    "results_elec_ts['elec_excess'] = results[(bus_electricity, electricity_excess)]['sequences']['flow']\n",
    "results_elec_ts"
   ]
  },
  {
   "cell_type": "code",
   "execution_count": null,
   "id": "e76f30a4",
   "metadata": {},
   "outputs": [],
   "source": [
    "results_heat_ts = OrderedDict()\n",
    "# Extract results to plot\n",
    "results_heat_ts['hp'] = results[(hp, bus_heat)]['sequences']['flow']\n",
    "results_heat_ts['chp'] = results[(chp, bus_heat)]['sequences']['flow']\n",
    "\n",
    "results_heat_ts['heat_dhw_demand'] = solph.views.node(results, 'heat_dhw_demand_l')['sequences']\n",
    "results_heat_ts['heat_space_demand'] = solph.views.node(results, 'heat_space_demand_l')['sequences']\n",
    "results_heat_ts['heat_excess'] = solph.views.node(results, 'heat_excess_l')['sequences']\n",
    "results_heat_ts"
   ]
  },
  {
   "cell_type": "code",
   "execution_count": null,
   "id": "0f41f8e0",
   "metadata": {},
   "outputs": [],
   "source": [
    "#%% Overview plot\n",
    "\n",
    "#Resample timestep to 1 day               \n",
    "freq_sample='D'\n",
    "set_alpha=0.8\n",
    "\n",
    "# Inilialize figure\n",
    "fig, axes = plt.subplots(nrows=1, ncols=2, figsize=(15,5) , sharey=False,sharex=False)\n",
    "plt.subplots_adjust(wspace=0.25, hspace=0.05)\n",
    "\n",
    "axes[0].plot(results_elec_ts['wind_onshore'].resample(freq_sample).sum(), alpha=set_alpha, color='royalblue', label='Wind onshore')\n",
    "axes[0].plot(results_elec_ts['wind_offshore'].resample(freq_sample).sum(), alpha=set_alpha, color='blue', label='Wind offshore')\n",
    "axes[0].plot(results_elec_ts['pv'].resample(freq_sample).sum(), alpha=set_alpha, color='gold', label='PV')\n",
    "axes[0].plot(results_elec_ts['ror'].resample(freq_sample).sum(), alpha=set_alpha, color='black', label='RoR')\n",
    "axes[0].plot(results_elec_ts['chp'].resample(freq_sample).sum(), alpha=set_alpha, color='green', label='CHP')\n",
    "\n",
    "axes[0].plot(results_elec_ts['elec_demand'].resample(freq_sample).sum(), alpha=set_alpha, color='magenta', label='Electricty demand')\n",
    "#axes[0].plot(results_elec_ts['elec_excess'].resample(freq_sample).sum(), alpha=set_alpha, color='cyan', label='Electricty excess')\n",
    "\n",
    "#axes[0].set_ylim(0, 10000)\n",
    "axes[0].legend()\n",
    "axes[0].set_ylabel('Energy electricty [MWh]')\n",
    "axes[0].set_xlabel('Date')\n",
    "\n",
    "axes[1].plot(results_heat_ts['chp'].resample(freq_sample).sum(), alpha=set_alpha, color='green', label='CHP')\n",
    "axes[1].plot(results_heat_ts['hp'].resample(freq_sample).sum(), alpha=set_alpha, color='gold', label='Heat Pump')\n",
    "\n",
    "axes[1].plot(results_heat_ts['heat_dhw_demand'].resample(freq_sample).sum(), alpha=set_alpha, color='red', label='DHW demand')\n",
    "axes[1].plot(results_heat_ts['heat_space_demand'].resample(freq_sample).sum(), alpha=set_alpha, color='blue', label='Space heat demand')\n",
    "#axes[1].plot(results_heat_ts['heat_dhw_demand'].resample(freq_sample).sum(), alpha=set_alpha, color='cyan', label='Heat excess')\n",
    "\n",
    "#axes[1].set_ylim(0, 10000)\n",
    "axes[1].legend()\n",
    "axes[1].set_ylabel('Energy Heat [MWh]')\n",
    "axes[1].set_xlabel('Date')\n",
    "\n",
    "plt.show()\n",
    "fig.savefig('../results/analysis_ts_overview.png', dpi=300)"
   ]
  },
  {
   "cell_type": "code",
   "execution_count": null,
   "id": "c47ef796",
   "metadata": {},
   "outputs": [],
   "source": []
  }
 ],
 "metadata": {
  "kernelspec": {
   "display_name": "Python 3 (ipykernel)",
   "language": "python",
   "name": "python3"
  },
  "language_info": {
   "codemirror_mode": {
    "name": "ipython",
    "version": 3
   },
   "file_extension": ".py",
   "mimetype": "text/x-python",
   "name": "python",
   "nbconvert_exporter": "python",
   "pygments_lexer": "ipython3",
   "version": "3.12.8"
  }
 },
 "nbformat": 4,
 "nbformat_minor": 5
}
